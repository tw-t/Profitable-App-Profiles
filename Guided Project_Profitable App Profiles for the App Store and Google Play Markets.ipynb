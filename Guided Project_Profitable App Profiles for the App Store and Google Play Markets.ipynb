{
 "cells": [
  {
   "cell_type": "markdown",
   "metadata": {},
   "source": [
    "# Analysing user data to maximise in-app ads outreach"
   ]
  },
  {
   "cell_type": "markdown",
   "metadata": {},
   "source": [
    "For this project, we take on the role of a data analyst at an app development company, which builds mobile apps for both Android and iOS operating systems, and publishes the apps on both Google Play Store and Apple Apps Store. The company is looking to develop a new app that is free to download and has its revenus driven via in-app ads.\n",
    "\n",
    "This project aims to analyse exisiting applications in both markets to construct user profiles in hope to provide developers detailed insights to better customise app type and features to encapsulate the largest audience and hence increase in-app advertisment impact to drive revenue.\n",
    "\n",
    "To achieve this goal, we will analyse apps that are currently avaliable on the markets to understand the features of popular apps. We will download data sets containing the information of current apps on both platforms.\n",
    "\n",
    "As there are approximately 2 million apps in the App Store and 2.1 million apps in Google Play as of September 2018, we have chosen to use samples of the full apps data file because the complete file is too large and costly to analyse. Before exploring the data, we will first open and read in two datasets that contains samples of apps that are on the App Store and Google Play Markets:"
   ]
  },
  {
   "cell_type": "code",
   "execution_count": 1,
   "metadata": {},
   "outputs": [],
   "source": [
    "## Opening and reading the dataset ##\n",
    "import csv # For reader() function\n",
    "\n",
    "## Android apps data ##\n",
    "opened_file = open(r'C:\\Users\\tsa19\\Dataquest Projects\\Datasets\\googleplaystore.csv', encoding=\"utf8\")\n",
    "# Note: encountered SyntaxError: (unicode error) when did not convert file path to raw string by adding r\"text\".\n",
    "# Note: encountered UnicodeDecodeError, specify encoding method to fix.\n",
    "read_file = csv.reader(opened_file)\n",
    "android_full = list(read_file)\n",
    "\n",
    "## Apple apps data ##\n",
    "opened_file = open(r'C:\\Users\\tsa19\\Dataquest Projects\\Datasets\\AppleStore.csv', encoding=\"utf8\")\n",
    "read_file = csv.reader(opened_file)\n",
    "apple_full = list(read_file)"
   ]
  },
  {
   "cell_type": "code",
   "execution_count": 2,
   "metadata": {},
   "outputs": [],
   "source": [
    "## Defining explore dataset function to start understanding the datasets ##\n",
    "def explore_data(dataset, start, end, rows_and_columns=False):\n",
    "    dataset_slice = dataset[start:end]    \n",
    "    for row in dataset_slice:\n",
    "        print(row)\n",
    "        print('\\n') # adds a new (empty) line after each row\n",
    "\n",
    "    if rows_and_columns:\n",
    "        print('Number of rows:', len(dataset))\n",
    "        print('Number of columns:', len(dataset[0]))"
   ]
  },
  {
   "cell_type": "code",
   "execution_count": 3,
   "metadata": {
    "scrolled": true
   },
   "outputs": [
    {
     "name": "stdout",
     "output_type": "stream",
     "text": [
      "['Photo Editor & Candy Camera & Grid & ScrapBook', 'ART_AND_DESIGN', '4.1', '159', '19M', '10,000+', 'Free', '0', 'Everyone', 'Art & Design', 'January 7, 2018', '1.0.0', '4.0.3 and up']\n",
      "\n",
      "\n",
      "['Coloring book moana', 'ART_AND_DESIGN', '3.9', '967', '14M', '500,000+', 'Free', '0', 'Everyone', 'Art & Design;Pretend Play', 'January 15, 2018', '2.0.0', '4.0.3 and up']\n",
      "\n",
      "\n",
      "['U Launcher Lite – FREE Live Cool Themes, Hide Apps', 'ART_AND_DESIGN', '4.7', '87510', '8.7M', '5,000,000+', 'Free', '0', 'Everyone', 'Art & Design', 'August 1, 2018', '1.2.4', '4.0.3 and up']\n",
      "\n",
      "\n",
      "['Sketch - Draw & Paint', 'ART_AND_DESIGN', '4.5', '215644', '25M', '50,000,000+', 'Free', '0', 'Teen', 'Art & Design', 'June 8, 2018', 'Varies with device', '4.2 and up']\n",
      "\n",
      "\n",
      "['Pixel Draw - Number Art Coloring Book', 'ART_AND_DESIGN', '4.3', '967', '2.8M', '100,000+', 'Free', '0', 'Everyone', 'Art & Design;Creativity', 'June 20, 2018', '1.1', '4.4 and up']\n",
      "\n",
      "\n",
      "Number of rows: 10841\n",
      "Number of columns: 13\n",
      "['284882215', 'Facebook', '389879808', 'USD', '0.0', '2974676', '212', '3.5', '3.5', '95.0', '4+', 'Social Networking', '37', '1', '29', '1']\n",
      "\n",
      "\n",
      "['389801252', 'Instagram', '113954816', 'USD', '0.0', '2161558', '1289', '4.5', '4.0', '10.23', '12+', 'Photo & Video', '37', '0', '29', '1']\n",
      "\n",
      "\n",
      "['529479190', 'Clash of Clans', '116476928', 'USD', '0.0', '2130805', '579', '4.5', '4.5', '9.24.12', '9+', 'Games', '38', '5', '18', '1']\n",
      "\n",
      "\n",
      "['420009108', 'Temple Run', '65921024', 'USD', '0.0', '1724546', '3842', '4.5', '4.0', '1.6.2', '9+', 'Games', '40', '5', '1', '1']\n",
      "\n",
      "\n",
      "['284035177', 'Pandora - Music & Radio', '130242560', 'USD', '0.0', '1126879', '3594', '4.0', '4.5', '8.4.1', '12+', 'Music', '37', '4', '1', '1']\n",
      "\n",
      "\n",
      "Number of rows: 7197\n",
      "Number of columns: 16\n"
     ]
    }
   ],
   "source": [
    "## Isolating header rows ##\n",
    "android_header = android_full[0]\n",
    "android = android_full[1:]\n",
    "\n",
    "apple_header = apple_full[0]\n",
    "apple = apple_full[1:]\n",
    "\n",
    "## Explore both datasets with explore data function ##\n",
    "explore_data(android, 0, 5, rows_and_columns=True)\n",
    "explore_data(apple, 0, 5, rows_and_columns=True)"
   ]
  },
  {
   "cell_type": "code",
   "execution_count": 4,
   "metadata": {},
   "outputs": [
    {
     "name": "stdout",
     "output_type": "stream",
     "text": [
      "These are the column names for dataset android: \n",
      "['App', 'Category', 'Rating', 'Reviews', 'Size', 'Installs', 'Type', 'Price', 'Content Rating', 'Genres', 'Last Updated', 'Current Ver', 'Android Ver']\n",
      "\n",
      "\n",
      "These are the column names for dataset apple: \n",
      "['id', 'track_name', 'size_bytes', 'currency', 'price', 'rating_count_tot', 'rating_count_ver', 'user_rating', 'user_rating_ver', 'ver', 'cont_rating', 'prime_genre', 'sup_devices.num', 'ipadSc_urls.num', 'lang.num', 'vpp_lic']\n"
     ]
    }
   ],
   "source": [
    "## Printing column names of both dataset and identifying which variables are useful to the project. ##\n",
    "print(\"These are the column names for dataset android: \")\n",
    "print(android_header)\n",
    "\n",
    "print('\\n')\n",
    "\n",
    "print(\"These are the column names for dataset apple: \")\n",
    "print(apple_header)"
   ]
  },
  {
   "cell_type": "markdown",
   "metadata": {},
   "source": [
    "## Explaination for dataset 'googleplaystore.csv' and 'AppleStore.csv'\n",
    "\n",
    "These two data sets are sample data sets that were drawn randomly from the apps listed on Google Play Store and Apple's App Store respectively.\n",
    "They both include information such as apps name, user rating, prices, genre and more.\n",
    "The source of both datasets are found on Kaggle.\n",
    "\n",
    "Now, we will identify the variables that could possibly be of interest to the project.\n",
    "For googleplaystore.csv, they are: 'App', 'Category', 'Rating', 'Reviews', 'Size', 'Installs', 'Type' and 'Price'.\n",
    "\n",
    "You can download and find the documentation for the **Google Play Store dataset** here: [Link](https://www.kaggle.com/lava18/google-play-store-apps)\n",
    "\n",
    "| **Column Name** | **Description** | **Data Type** |\n",
    "|:---|:---|:---|\n",
    "| \"App\" | Application name | string |\n",
    "| \"Category\" | App category | string |\n",
    "| \"Rating\" | Overall user rating of the app (as when scraped) | decimal |\n",
    "| \"Reviews\" | Number of user reviews for the app (as when scraped) | integer |\n",
    "| \"Size\" | Size of the app (as when scraped) | string |\n",
    "| \"Installs\" | Number of user downloads/installs for the app (as when scraped) | string |\n",
    "| \"Type\" | Paid or Free | string |\n",
    "| \"Price\" | Price of the app (as when scraped) | string |"
   ]
  },
  {
   "cell_type": "markdown",
   "metadata": {},
   "source": [
    "*Side note: link for generating tables in markdown cells can be found here:* [Link](https://www.markdownguide.org/extended-syntax/#tables)"
   ]
  },
  {
   "cell_type": "markdown",
   "metadata": {},
   "source": [
    "For AppleStore.csv, relevant columns are: 'track_name', 'size_bytes', 'currency', 'price', 'rating_count_tot', 'user_rating' and 'prime_genre'.\n",
    "\n",
    "Download path and documentation for **Apple Apps Store dataset** can be found here: [Link](https://www.kaggle.com/ramamet4/app-store-apple-data-set-10k-apps)\n",
    "\n",
    "| Column Name | Description | Data Type |\n",
    "|:---|:---|:---|\n",
    "| \"track_name\" | Application name | string |\n",
    "| \"size_bytes\" | Size (in Bytes) | integer |\n",
    "| \"Currency\" | Currency Type | string |\n",
    "| \"Price\" | Price amount | decimal |\n",
    "| \"rating_count_tot\" | User Rating counts (for all version) | integer |\n",
    "| \"user_rating\" | Average User Rating value (for all version) | decimal |\n",
    "| \"prime_genre\" | Primary Genre | string |"
   ]
  },
  {
   "cell_type": "markdown",
   "metadata": {},
   "source": [
    "# Data preparation and cleaning\n",
    "\n",
    "Now that we have identified the variables that are needed to our project aim, let us prepare the data as to obtain accurate analysis results.\n",
    "\n",
    "This process is called *data cleaning*, and it is usually the task what data scientists spend the most time on.\n",
    "The aim for this step is to:\n",
    "* Detect inaccurate data, and correct or remove it.\n",
    "* Detect duplicate data, and remove the duplicates.\n",
    "\n",
    "Also, we will impose two more conditions when preparing the dataset because the project outline has noted that we are interested in building *free* apps towards an *English-speaking audience*, hence we will:\n",
    "* Remove non-English apps like 爱奇艺PPS -《欢乐颂2》电视剧热播.\n",
    "* Remove apps that aren't free."
   ]
  },
  {
   "cell_type": "markdown",
   "metadata": {},
   "source": [
    "## Removing wrong data\n",
    "\n",
    "From the discussion from the Kaggle website where this dataset is sourced from, we see a [thread of discussion](https://www.kaggle.com/lava18/google-play-store-apps/discussion/66015) mentioning this error where the data seemed to have skipped the Category data, and hence is one data short.\n",
    "Luckily there is only one app that have this issue, and so we decide to correct this error by removing row index 10472."
   ]
  },
  {
   "cell_type": "code",
   "execution_count": 5,
   "metadata": {},
   "outputs": [
    {
     "name": "stdout",
     "output_type": "stream",
     "text": [
      "['Life Made WI-Fi Touchscreen Photo Frame', '1.9', '19', '3.0M', '1,000+', 'Free', '0', 'Everyone', '', 'February 11, 2018', '1.0.19', '4.0 and up']\n",
      "Incorrect row index:  10472\n"
     ]
    }
   ],
   "source": [
    "## Identifying error in data entry length ##\n",
    "\n",
    "for row in android:\n",
    "    if len(row) == len(android_header):\n",
    "        continue\n",
    "    elif len(row) != len(android_header):\n",
    "        print(row)\n",
    "        print(\"Incorrect row index: \", android.index(row)) # header row is removed in this case"
   ]
  },
  {
   "cell_type": "code",
   "execution_count": 6,
   "metadata": {},
   "outputs": [],
   "source": [
    "## Removing data for this app ##\n",
    "del android[10472] # take care not to run this code more than once"
   ]
  },
  {
   "cell_type": "markdown",
   "metadata": {},
   "source": [
    "## Removing Duplicated Entries: Part One\n",
    "\n",
    "Next, to ensure the accuracy of our analysis, we will investigate the data set to see if there are only one entry per app, and select a method to clean the data if not."
   ]
  },
  {
   "cell_type": "code",
   "execution_count": 7,
   "metadata": {},
   "outputs": [
    {
     "name": "stdout",
     "output_type": "stream",
     "text": [
      "There are  1181  duplicated apps in the android data set.\n",
      "\n",
      "\n",
      "Examples of duplicated apps:\n",
      "['Quick PDF Scanner + OCR FREE', 'BUSINESS', '4.2', '80805', 'Varies with device', '5,000,000+', 'Free', '0', 'Everyone', 'Business', 'February 26, 2018', 'Varies with device', '4.0.3 and up']\n",
      "['Quick PDF Scanner + OCR FREE', 'BUSINESS', '4.2', '80805', 'Varies with device', '5,000,000+', 'Free', '0', 'Everyone', 'Business', 'February 26, 2018', 'Varies with device', '4.0.3 and up']\n",
      "['Quick PDF Scanner + OCR FREE', 'BUSINESS', '4.2', '80804', 'Varies with device', '5,000,000+', 'Free', '0', 'Everyone', 'Business', 'February 26, 2018', 'Varies with device', '4.0.3 and up']\n"
     ]
    }
   ],
   "source": [
    "## Finding duplicated data ##\n",
    "unique_apps = []\n",
    "duplicated_apps = []\n",
    "\n",
    "for row in android:\n",
    "    name = row[0]\n",
    "    if name in unique_apps:\n",
    "        duplicated_apps.append(name)\n",
    "    if name not in unique_apps:\n",
    "        unique_apps.append(name)\n",
    "        \n",
    "print(\"There are \", len(duplicated_apps), \" duplicated apps in the android data set.\")\n",
    "print('\\n')\n",
    "\n",
    "print(\"Examples of duplicated apps:\")\n",
    "for row in android:\n",
    "    name = row[0]\n",
    "    if name == duplicated_apps[0]:\n",
    "        print(row)"
   ]
  },
  {
   "cell_type": "markdown",
   "metadata": {},
   "source": [
    "Above, we have identified that there are 1,181 duplicated entries in the android data set, but randomly choosing one entry and removing all other duplicates is really a good way to ensure that we retain the best data in our data set.\n",
    "\n",
    "One criterion for selection could be to keep the entry with the most review, as it will mean that it is the latest data.\n",
    "\n",
    "Another criterion is to keep the entry with the most recent Last Updated date and/or Current Ver to keep the most recent data.\n",
    "\n",
    "If all information between entries are the same, then we will select an entry at random and drop the rest."
   ]
  },
  {
   "cell_type": "markdown",
   "metadata": {},
   "source": [
    "## Removing Duplicated Entries: Part Two\n",
    "\n",
    "After setting out the criterion which to select duplicated data from, we will proceed to cleaning the data set.\n",
    "\n",
    "We will first create a dictionary that maps the unique app names to the largest number of reviews that the app has. After which, we will use this dictionary to extract the entries that have the maximum review number. Here, we will need to first check if data for this app had been extracted already, because there are instances where max review numbers are the same across multiple entries. At this point, we will just extract the first entry that have the max review number as mapped in the dictionary and drop the others."
   ]
  },
  {
   "cell_type": "code",
   "execution_count": 8,
   "metadata": {},
   "outputs": [
    {
     "name": "stdout",
     "output_type": "stream",
     "text": [
      "Expected data set length: 9659\n",
      "Dictionary length: 9659\n"
     ]
    }
   ],
   "source": [
    "## Creating dictionary to select most reviewed data entries ##\n",
    "print(\"Expected data set length:\", len(android) - len(duplicated_apps))\n",
    "reviews_max = {}\n",
    "\n",
    "for row in android:\n",
    "    name = row[0]\n",
    "    n_reviews = float(row[3])\n",
    "    if name not in reviews_max:\n",
    "        reviews_max[name] = n_reviews\n",
    "    if name in reviews_max and reviews_max[name] < n_reviews:\n",
    "        reviews_max[name] = n_reviews\n",
    "    else:\n",
    "        pass\n",
    "\n",
    "print(\"Dictionary length:\", len(reviews_max))"
   ]
  },
  {
   "cell_type": "code",
   "execution_count": 9,
   "metadata": {},
   "outputs": [
    {
     "name": "stdout",
     "output_type": "stream",
     "text": [
      "We have successfully removed duplicated data and reduce data entry to 9659 .\n"
     ]
    }
   ],
   "source": [
    "## Using dictionary to remove duplicated data ##\n",
    "android_clean = []\n",
    "already_added = []\n",
    "\n",
    "for row in android:\n",
    "    name = row[0]\n",
    "    n_reviews = float(row[3])\n",
    "    if n_reviews == reviews_max[name] and name not in already_added:\n",
    "        android_clean.append(row)\n",
    "        already_added.append(name)\n",
    "\n",
    "if len(android_clean) == len(reviews_max):\n",
    "    print(\"We have successfully removed duplicated data and reduce data entry to\", len(android_clean), \".\")\n",
    "else:\n",
    "    print(\"Data set still needs to be further cleaned.\")"
   ]
  },
  {
   "cell_type": "markdown",
   "metadata": {},
   "source": [
    "## Removing Non-English apps: Part One\n",
    "\n",
    "We now move to removing non-English apps from our data set.\n",
    "\n",
    "For this step, we exploit the fact that every string character have an unique integer that represents the Unicode point of that character. For characters that appears in English, according to ASCII (American Standard Code for Information Interchange), this integer is in the range of 0 to 127. Hence if we check the name of the app and characters within the name returns with a integer that is greater than 127, then the app most likely have a non-English name.\n",
    "\n",
    "We will define a function that help us identify if the app name is detected as English or non-English."
   ]
  },
  {
   "cell_type": "code",
   "execution_count": 10,
   "metadata": {},
   "outputs": [
    {
     "name": "stdout",
     "output_type": "stream",
     "text": [
      "Instagram has an English app name: True\n",
      "爱奇艺PPS -《欢乐颂2》电视剧热播 has an English app name: False\n",
      "Docs To Go™ Free Office Suite has an English app name: True\n",
      "Instachat 😜 has an English app name: True\n"
     ]
    }
   ],
   "source": [
    "## Defining function to identify if app have English name ##\n",
    "def english_app_name(string):\n",
    "    for element in string:\n",
    "        if ord(element) > 127:\n",
    "            return False\n",
    "        else:\n",
    "            return True\n",
    "        \n",
    "test_app_names = ['Instagram', '爱奇艺PPS -《欢乐颂2》电视剧热播', 'Docs To Go™ Free Office Suite', 'Instachat 😜']\n",
    "\n",
    "for name in test_app_names:\n",
    "    print(name, \"has an English app name:\", english_app_name(name))"
   ]
  },
  {
   "cell_type": "markdown",
   "metadata": {},
   "source": [
    "Because some English named apps have uncommon characters included, so they will be rejected using the current fuction. If we choose to filter our data set using this fuction we will be loosing large quantity of data. Hence, to minimize the impact of data loss, we will modify the function to only filter out apps with more than three characters that are outside of the ASCII range.\n",
    "\n",
    "This method is not entirely accurate, however, it is effective enough for the cause of our project."
   ]
  },
  {
   "cell_type": "code",
   "execution_count": 11,
   "metadata": {},
   "outputs": [
    {
     "name": "stdout",
     "output_type": "stream",
     "text": [
      "Instagram has an English app name: True\n",
      "爱奇艺PPS -《欢乐颂2》电视剧热播 has an English app name: False\n",
      "Docs To Go™ Free Office Suite has an English app name: True\n",
      "Instachat 😜 has an English app name: True\n"
     ]
    }
   ],
   "source": [
    "## Modifying fuction definition to identify if app have English name ##\n",
    "def english_app_name(string):\n",
    "    non_eng_count = 0\n",
    "    for element in string:\n",
    "        if ord(element) > 127:\n",
    "            non_eng_count += 1\n",
    "        else:\n",
    "            pass\n",
    "    if non_eng_count > 3:\n",
    "        return False\n",
    "    else:\n",
    "        return True\n",
    "        \n",
    "test_app_names = ['Instagram', '爱奇艺PPS -《欢乐颂2》电视剧热播', 'Docs To Go™ Free Office Suite', 'Instachat 😜']\n",
    "\n",
    "for name in test_app_names:\n",
    "    print(name, \"has an English app name:\", english_app_name(name))"
   ]
  },
  {
   "cell_type": "code",
   "execution_count": 12,
   "metadata": {},
   "outputs": [
    {
     "name": "stdout",
     "output_type": "stream",
     "text": [
      "Dropped non-Enlish Android apps: 45\n",
      "Android data set length: 9614\n",
      "Dropped non-Enlish Apple apps: 1014\n",
      "Apple data set length: 6183\n"
     ]
    }
   ],
   "source": [
    "## Using function to filter out non-English named apps ##\n",
    "android_eng_clean = []\n",
    "\n",
    "for row in android_clean:\n",
    "    name = row[0]\n",
    "    if english_app_name(name) == True:\n",
    "        android_eng_clean.append(row)\n",
    "\n",
    "print(\"Dropped non-Enlish Android apps:\", len(android_clean) - len(android_eng_clean))\n",
    "print(\"Android data set length:\", len(android_eng_clean))\n",
    "\n",
    "apple_eng_clean = []\n",
    "\n",
    "for row in apple:\n",
    "    name = row[1]\n",
    "    if english_app_name(name) == True:\n",
    "        apple_eng_clean.append(row)\n",
    "        \n",
    "print(\"Dropped non-Enlish Apple apps:\", len(apple) - len(apple_eng_clean))\n",
    "print(\"Apple data set length:\", len(apple_eng_clean))"
   ]
  },
  {
   "cell_type": "markdown",
   "metadata": {},
   "source": [
    "## Isolating free apps\n",
    "\n",
    "As we are only interested in analysing data from apps that are free to download in both markets, we are going to isolate these data from the rest of the data set."
   ]
  },
  {
   "cell_type": "code",
   "execution_count": 13,
   "metadata": {},
   "outputs": [
    {
     "name": "stdout",
     "output_type": "stream",
     "text": [
      "Dropped non-free Android apps: 751\n",
      "Android data set final length: 8863\n",
      "Dropped non-free Apple apps: 2961\n",
      "Apple data set final length: 3222\n"
     ]
    }
   ],
   "source": [
    "## Isolating the free apps ##\n",
    "android_free = []\n",
    "\n",
    "for row in android_eng_clean:\n",
    "    free_var = row[6]\n",
    "    if free_var == 'Free':\n",
    "        android_free.append(row)\n",
    "        \n",
    "print(\"Dropped non-free Android apps:\", len(android_eng_clean) - len(android_free))\n",
    "print(\"Android data set final length:\", len(android_free))\n",
    "\n",
    "apple_free = []\n",
    "\n",
    "for row in apple_eng_clean:\n",
    "    free_var = row[4]\n",
    "    if float(free_var) == 0:\n",
    "        apple_free.append(row)\n",
    "        \n",
    "print(\"Dropped non-free Apple apps:\", len(apple_eng_clean) - len(apple_free))\n",
    "print(\"Apple data set final length:\", len(apple_free))"
   ]
  },
  {
   "cell_type": "markdown",
   "metadata": {},
   "source": [
    "## Most common apps by genre\n",
    "\n",
    "As described in introduction, our project aim is to identify the kind of app that will attract the most users because the number of users strongly correlates to the revenue generated by said app.\n",
    "\n",
    "In order to minimise business risks and overheads, we will adopt the following strategy:\n",
    "1. Build minimal android version of app, and launch it on Google Play.\n",
    "2. Develop app further if feedbacks were positive.\n",
    "3. If app is profitable in six months, develop and launch iOS version on App Store.\n",
    "\n",
    "Seeing that our end goal is to add our app to both markets, we need to determine the traits that makes an app successful across different markets.\n",
    "\n",
    "We will first start analysing the data by genre, and the variables choosen for this investigation will be:\n",
    "* Category and Genre for android data set\n",
    "* prime_genre for apple data set"
   ]
  },
  {
   "cell_type": "code",
   "execution_count": 14,
   "metadata": {},
   "outputs": [],
   "source": [
    "## Defining function to generate frequency tables ##\n",
    "def freq_table(dataset, index):\n",
    "    table = {}\n",
    "    for row in dataset:\n",
    "        key = row[index]\n",
    "        if key in table:\n",
    "            table[key] += 1\n",
    "        else:\n",
    "            table[key] = 1\n",
    "            \n",
    "    for key in table:\n",
    "        table[key] = table[key] / len(dataset) * 100 # transform frequency in to percentatge\n",
    "        \n",
    "    return table\n",
    "\n",
    "## Defining a function to sort frequency table in descending order ##\n",
    "def display_table(dataset, index):\n",
    "    table = freq_table(dataset, index)\n",
    "    table_display = []\n",
    "    for key in table:\n",
    "        key_val_as_tuple = (table[key], key)\n",
    "        table_display.append(key_val_as_tuple)\n",
    "\n",
    "    table_sorted = sorted(table_display, reverse = True)\n",
    "    for entry in table_sorted:\n",
    "        print(entry[1], ':', entry[0])"
   ]
  },
  {
   "cell_type": "code",
   "execution_count": 15,
   "metadata": {},
   "outputs": [
    {
     "name": "stdout",
     "output_type": "stream",
     "text": [
      "Frequency table by Category for Google Play data set:\n",
      "FAMILY : 18.898792733837304\n",
      "GAME : 9.725826469592688\n",
      "TOOLS : 8.462146000225657\n",
      "BUSINESS : 4.592124562789123\n",
      "LIFESTYLE : 3.9038700214374367\n",
      "PRODUCTIVITY : 3.8925871601038025\n",
      "FINANCE : 3.7007785174320205\n",
      "MEDICAL : 3.5315355974275078\n",
      "SPORTS : 3.396141261423897\n",
      "PERSONALIZATION : 3.317161232088458\n",
      "COMMUNICATION : 3.2381812027530184\n",
      "HEALTH_AND_FITNESS : 3.0802211440821394\n",
      "PHOTOGRAPHY : 2.944826808078529\n",
      "NEWS_AND_MAGAZINES : 2.798149610741284\n",
      "SOCIAL : 2.6627552747376737\n",
      "TRAVEL_AND_LOCAL : 2.335552296062281\n",
      "SHOPPING : 2.245289405393208\n",
      "BOOKS_AND_REFERENCE : 2.1437436533904997\n",
      "DATING : 1.8616721200496444\n",
      "VIDEO_PLAYERS : 1.7939749520478394\n",
      "MAPS_AND_NAVIGATION : 1.399074805370642\n",
      "FOOD_AND_DRINK : 1.241114746699763\n",
      "EDUCATION : 1.1621347173643235\n",
      "ENTERTAINMENT : 0.9590432133589079\n",
      "LIBRARIES_AND_DEMO : 0.9364774906916393\n",
      "AUTO_AND_VEHICLES : 0.9251946293580051\n",
      "HOUSE_AND_HOME : 0.8236488773552973\n",
      "WEATHER : 0.8010831546880289\n",
      "EVENTS : 0.7108202640189552\n",
      "PARENTING : 0.6544059573507841\n",
      "ART_AND_DESIGN : 0.6431230960171499\n",
      "COMICS : 0.6205573733498815\n",
      "BEAUTY : 0.5979916506826132\n",
      "\n",
      "\n",
      "Frequency table by Genre for Google Play data set:\n",
      "Tools : 8.450863138892023\n",
      "Entertainment : 6.070179397495204\n",
      "Education : 5.348076272142616\n",
      "Business : 4.592124562789123\n",
      "Productivity : 3.8925871601038025\n",
      "Lifestyle : 3.8925871601038025\n",
      "Finance : 3.7007785174320205\n",
      "Medical : 3.5315355974275078\n",
      "Sports : 3.463838429425702\n",
      "Personalization : 3.317161232088458\n",
      "Communication : 3.2381812027530184\n",
      "Action : 3.102786866749408\n",
      "Health & Fitness : 3.0802211440821394\n",
      "Photography : 2.944826808078529\n",
      "News & Magazines : 2.798149610741284\n",
      "Social : 2.6627552747376737\n",
      "Travel & Local : 2.324269434728647\n",
      "Shopping : 2.245289405393208\n",
      "Books & Reference : 2.1437436533904997\n",
      "Simulation : 2.042197901387792\n",
      "Dating : 1.8616721200496444\n",
      "Arcade : 1.8503892587160102\n",
      "Video Players & Editors : 1.771409229380571\n",
      "Casual : 1.7601263680469368\n",
      "Maps & Navigation : 1.399074805370642\n",
      "Food & Drink : 1.241114746699763\n",
      "Puzzle : 1.128286133363421\n",
      "Racing : 0.9928917973598104\n",
      "Role Playing : 0.9364774906916393\n",
      "Libraries & Demo : 0.9364774906916393\n",
      "Auto & Vehicles : 0.9251946293580051\n",
      "Strategy : 0.9026289066907368\n",
      "House & Home : 0.8236488773552973\n",
      "Weather : 0.8010831546880289\n",
      "Events : 0.7108202640189552\n",
      "Adventure : 0.6769716800180525\n",
      "Comics : 0.6092745120162473\n",
      "Beauty : 0.5979916506826132\n",
      "Art & Design : 0.5979916506826132\n",
      "Parenting : 0.4964458986799052\n",
      "Card : 0.4513144533453684\n",
      "Casino : 0.42874873067809993\n",
      "Trivia : 0.4174658693444658\n",
      "Educational;Education : 0.3949001466771973\n",
      "Board : 0.38361728534356315\n",
      "Educational : 0.37233442400992894\n",
      "Education;Education : 0.33848584000902626\n",
      "Word : 0.25950581067358686\n",
      "Casual;Pretend Play : 0.2369400880063184\n",
      "Music : 0.20309150400541578\n",
      "Racing;Action & Adventure : 0.16924292000451313\n",
      "Puzzle;Brain Games : 0.16924292000451313\n",
      "Entertainment;Music & Video : 0.16924292000451313\n",
      "Casual;Brain Games : 0.1353943360036105\n",
      "Casual;Action & Adventure : 0.1353943360036105\n",
      "Arcade;Action & Adventure : 0.1241114746699763\n",
      "Action;Action & Adventure : 0.10154575200270789\n",
      "Educational;Pretend Play : 0.09026289066907367\n",
      "Simulation;Action & Adventure : 0.07898002933543948\n",
      "Parenting;Education : 0.07898002933543948\n",
      "Entertainment;Brain Games : 0.07898002933543948\n",
      "Board;Brain Games : 0.07898002933543948\n",
      "Parenting;Music & Video : 0.06769716800180525\n",
      "Educational;Brain Games : 0.06769716800180525\n",
      "Casual;Creativity : 0.06769716800180525\n",
      "Art & Design;Creativity : 0.06769716800180525\n",
      "Education;Pretend Play : 0.05641430666817105\n",
      "Role Playing;Pretend Play : 0.045131445334536835\n",
      "Education;Creativity : 0.045131445334536835\n",
      "Role Playing;Action & Adventure : 0.033848584000902626\n",
      "Puzzle;Action & Adventure : 0.033848584000902626\n",
      "Entertainment;Creativity : 0.033848584000902626\n",
      "Entertainment;Action & Adventure : 0.033848584000902626\n",
      "Educational;Creativity : 0.033848584000902626\n",
      "Educational;Action & Adventure : 0.033848584000902626\n",
      "Education;Music & Video : 0.033848584000902626\n",
      "Education;Brain Games : 0.033848584000902626\n",
      "Education;Action & Adventure : 0.033848584000902626\n",
      "Adventure;Action & Adventure : 0.033848584000902626\n",
      "Video Players & Editors;Music & Video : 0.022565722667268417\n",
      "Sports;Action & Adventure : 0.022565722667268417\n",
      "Simulation;Pretend Play : 0.022565722667268417\n",
      "Puzzle;Creativity : 0.022565722667268417\n",
      "Music;Music & Video : 0.022565722667268417\n",
      "Entertainment;Pretend Play : 0.022565722667268417\n",
      "Casual;Education : 0.022565722667268417\n",
      "Board;Action & Adventure : 0.022565722667268417\n",
      "Video Players & Editors;Creativity : 0.011282861333634209\n",
      "Trivia;Education : 0.011282861333634209\n",
      "Travel & Local;Action & Adventure : 0.011282861333634209\n",
      "Tools;Education : 0.011282861333634209\n",
      "Strategy;Education : 0.011282861333634209\n",
      "Strategy;Creativity : 0.011282861333634209\n",
      "Strategy;Action & Adventure : 0.011282861333634209\n",
      "Simulation;Education : 0.011282861333634209\n",
      "Role Playing;Brain Games : 0.011282861333634209\n",
      "Racing;Pretend Play : 0.011282861333634209\n",
      "Puzzle;Education : 0.011282861333634209\n",
      "Parenting;Brain Games : 0.011282861333634209\n",
      "Music & Audio;Music & Video : 0.011282861333634209\n",
      "Lifestyle;Pretend Play : 0.011282861333634209\n",
      "Lifestyle;Education : 0.011282861333634209\n",
      "Health & Fitness;Education : 0.011282861333634209\n",
      "Health & Fitness;Action & Adventure : 0.011282861333634209\n",
      "Entertainment;Education : 0.011282861333634209\n",
      "Communication;Creativity : 0.011282861333634209\n",
      "Comics;Creativity : 0.011282861333634209\n",
      "Casual;Music & Video : 0.011282861333634209\n",
      "Card;Action & Adventure : 0.011282861333634209\n",
      "Books & Reference;Education : 0.011282861333634209\n",
      "Art & Design;Pretend Play : 0.011282861333634209\n",
      "Art & Design;Action & Adventure : 0.011282861333634209\n",
      "Arcade;Pretend Play : 0.011282861333634209\n",
      "Adventure;Education : 0.011282861333634209\n",
      "\n",
      "\n",
      "Frequency table by prime_genre for App Store data set:\n",
      "Games : 58.16263190564867\n",
      "Entertainment : 7.883302296710118\n",
      "Photo & Video : 4.9658597144630665\n",
      "Education : 3.662321539416512\n",
      "Social Networking : 3.2898820608317814\n",
      "Shopping : 2.60707635009311\n",
      "Utilities : 2.5139664804469275\n",
      "Sports : 2.1415270018621975\n",
      "Music : 2.0484171322160147\n",
      "Health & Fitness : 2.0173805090006205\n",
      "Productivity : 1.7380509000620732\n",
      "Lifestyle : 1.5828677839851024\n",
      "News : 1.3345747982619491\n",
      "Travel : 1.2414649286157666\n",
      "Finance : 1.1173184357541899\n",
      "Weather : 0.8690254500310366\n",
      "Food & Drink : 0.8069522036002483\n",
      "Reference : 0.5586592178770949\n",
      "Business : 0.5276225946617008\n",
      "Book : 0.4345127250155183\n",
      "Navigation : 0.186219739292365\n",
      "Medical : 0.186219739292365\n",
      "Catalogs : 0.12414649286157665\n"
     ]
    }
   ],
   "source": [
    "## Using functions to list genre by popularity ##\n",
    "print(\"Frequency table by Category for Google Play data set:\")\n",
    "display_table(android_free, 1)\n",
    "print('\\n')\n",
    "print(\"Frequency table by Genre for Google Play data set:\")\n",
    "display_table(android_free, 9)\n",
    "print('\\n')\n",
    "print(\"Frequency table by prime_genre for App Store data set:\")\n",
    "display_table(apple_free, 11)"
   ]
  },
  {
   "cell_type": "markdown",
   "metadata": {},
   "source": [
    "## Analysing app distribution by genre\n",
    "\n",
    "We have now created frequency tables which displays results for Category and Genre columns for Google Play data set and prime_genre for App Store data set. The frequencies have been transformed in to percentages and sorted in descending order for ease of analysis.\n",
    "\n",
    "Understanding the results from the freqency table generated for the prime_genre column for the App Store data set, we find that the most populated genre is by Games with 58.16%, followed by Entertainment at 7.88%. The genres after the top two all have frequencies that are less than 5%, showing that the market is being dominated by apps geared towards entertainment instead of practicle purposes.\n",
    "\n",
    "One possible reason could be that entertainment apps, and gaming apps in particular, are easier to develop, hence are released on to the market in troves. However, our analysis thus far does not account for the number of users each genre of app have, hence if the large quantity of gaming apps only attracts small number of users each, then developing a gaming app will not be compatible with our revenue generating method. We would require further investigation into the spread of user download frequencies to draw more accurate conclusion.\n",
    "\n",
    "Another point to be made is that the analysis is conducted on an English free app data set, hence it could be that different genre of games adopt different business strategies, where gaming and other entertainment apps aims to minimize friction to encourage the largest number of user installation by removing inital price barrier, then set up in-app payment features or adopts the ad driven revenue strategy that our company sets out to follow. Productivity apps, on the otherhand, most likely adopts different pricing strategies and are not free apps as we know that out of approximately 6000 English apps in our App Store data set, roughly half are paid apps and therefore dropped from the analysis data set.\n",
    "\n",
    "For genres in Google Play market, the most popular genre by Category column is Family (18.90%) and followed by Game (9.73%); results by Genre column are Tools (8.45%) and Entertainment (6.07%). The spread of frequency of the Google Play Store data set it much less extreme than that of the App Store's, but the top genre is still twice as populated as the second. The pattern between entertainment and productivity apps is less apparent for the android market, but if we interpret Category as the primary genre, and the Genre column as the secondary  genres, then we would find that android apps are more evenly spread across genres, though it would appear entertainment apps are slightly more popluar.\n",
    "\n",
    "It is important to reiterate that the analysis above are conducted on English free apps for both markets, hence the results might not be applicable to the markets as a whole. But with our current project specification,\n",
    "\n",
    "In order to suggest an app profile for our specification, we would need to investigate the average number of user installs."
   ]
  },
  {
   "cell_type": "markdown",
   "metadata": {},
   "source": [
    "## Most poplular apps by genre on the App Store\n",
    "\n",
    "Because we have no variable for user installation for the App Store data set, we will use user_rating, which records the count of user ratings submitted for each app as a proxy.\n",
    "\n",
    "We will stratify these results by genre."
   ]
  },
  {
   "cell_type": "code",
   "execution_count": 16,
   "metadata": {
    "scrolled": true
   },
   "outputs": [
    {
     "name": "stdout",
     "output_type": "stream",
     "text": [
      "86090.33 : Navigation\n",
      "74942.11 : Reference\n",
      "71548.35 : Social Networking\n",
      "57326.53 : Music\n",
      "52279.89 : Weather\n",
      "39758.5 : Book\n",
      "33333.92 : Food & Drink\n",
      "31467.94 : Finance\n",
      "28441.54 : Photo & Video\n",
      "28243.8 : Travel\n",
      "26919.69 : Shopping\n",
      "23298.02 : Health & Fitness\n",
      "23008.9 : Sports\n",
      "22788.67 : Games\n",
      "21248.02 : News\n",
      "21028.41 : Productivity\n",
      "18684.46 : Utilities\n",
      "16485.76 : Lifestyle\n",
      "14029.83 : Entertainment\n",
      "7491.12 : Business\n",
      "7003.98 : Education\n",
      "4004.0 : Catalogs\n",
      "612.0 : Medical\n"
     ]
    }
   ],
   "source": [
    "## Finding most popular app by genre ##\n",
    "app_store_genre = freq_table(apple_free, 11)\n",
    "avg_user_num_map = {}\n",
    "\n",
    "for genre in app_store_genre:\n",
    "    total = 0\n",
    "    len_genre = 0\n",
    "    for row in apple_free:\n",
    "        genre_app = row[11]\n",
    "        if genre_app == genre:\n",
    "            total = total + float(row[5]) # Chosen to use rating_count_tot\n",
    "            len_genre += 1\n",
    "    avg_user_num = round(total / len_genre, 2)\n",
    "    avg_user_num_map[genre] = avg_user_num\n",
    "    \n",
    "table_sorted = sorted(avg_user_num_map.items(), key=lambda kv: kv[1], reverse=True)\n",
    "\n",
    "for entry in table_sorted:\n",
    "       print(entry[1], ':', entry[0])"
   ]
  },
  {
   "cell_type": "markdown",
   "metadata": {},
   "source": [
    "We can see that the most popular app genres are Navigation, Reference and Social Networking. These apps require large amount of user generated content to optimize its performance and thus users have been monopolised by the few apps operating within these spheres.\n",
    "\n",
    "We can also observe that our previous prediction about user number being diluted by quantity of apps avaliable is well supported as average number of users per Gaming app ranks pretty low on the list.\n",
    "\n",
    "One recommened profile would be a Photo & Video app, this genre is not overly crowed as Games, but yields a pretty high number of user downloads on average. Hence could be a good fit for our requirement."
   ]
  },
  {
   "cell_type": "code",
   "execution_count": 17,
   "metadata": {},
   "outputs": [
    {
     "name": "stdout",
     "output_type": "stream",
     "text": [
      "38456119.17 : COMMUNICATION\n",
      "24727872.45 : VIDEO_PLAYERS\n",
      "23253652.13 : SOCIAL\n",
      "17840110.4 : PHOTOGRAPHY\n",
      "16787331.34 : PRODUCTIVITY\n",
      "15588015.6 : GAME\n",
      "13984077.71 : TRAVEL_AND_LOCAL\n",
      "11640705.88 : ENTERTAINMENT\n",
      "10801391.3 : TOOLS\n",
      "9549178.47 : NEWS_AND_MAGAZINES\n",
      "8767811.89 : BOOKS_AND_REFERENCE\n",
      "7036877.31 : SHOPPING\n",
      "5201482.61 : PERSONALIZATION\n",
      "5074486.2 : WEATHER\n",
      "4188821.99 : HEALTH_AND_FITNESS\n",
      "4056941.77 : MAPS_AND_NAVIGATION\n",
      "3697848.17 : FAMILY\n",
      "3638640.14 : SPORTS\n",
      "1986335.09 : ART_AND_DESIGN\n",
      "1924897.74 : FOOD_AND_DRINK\n",
      "1833495.15 : EDUCATION\n",
      "1712290.15 : BUSINESS\n",
      "1437816.27 : LIFESTYLE\n",
      "1387692.48 : FINANCE\n",
      "1331540.56 : HOUSE_AND_HOME\n",
      "854028.83 : DATING\n",
      "817657.27 : COMICS\n",
      "647317.82 : AUTO_AND_VEHICLES\n",
      "638503.73 : LIBRARIES_AND_DEMO\n",
      "542603.62 : PARENTING\n",
      "513151.89 : BEAUTY\n",
      "253542.22 : EVENTS\n",
      "120550.62 : MEDICAL\n"
     ]
    }
   ],
   "source": [
    "## Finding most popular app by genre ##\n",
    "cat_genre = freq_table(android_free, 1)\n",
    "avg_user_num_map = {}\n",
    "\n",
    "for category in cat_genre:\n",
    "    total = 0\n",
    "    len_genre = 0\n",
    "    for row in android_free:\n",
    "        category_app = row[1]\n",
    "        if category_app == category:\n",
    "            installs = row[5]\n",
    "            installs = installs.replace(\"+\", \"\")\n",
    "            installs = installs.replace(\",\", \"\")\n",
    "            total = total + float(installs)\n",
    "            len_genre += 1\n",
    "    avg_user_num = round(total / len_genre, 2)\n",
    "    avg_user_num_map[category] = avg_user_num\n",
    "    \n",
    "table_sorted = sorted(avg_user_num_map.items(), key=lambda kv: kv[1], reverse=True)\n",
    "\n",
    "for entry in table_sorted:\n",
    "       print(entry[1], ':', entry[0])"
   ]
  },
  {
   "cell_type": "markdown",
   "metadata": {},
   "source": [
    "The genres with the highest installs per app on the Google Play Market are communication, video players and social.\n",
    "\n",
    "We see that average download numbers are much higher in the Google Play Market than in the App Store.\n",
    "\n",
    "Since our aim is to identify the profile that is most likely to maximised profit generations across both platforms, I would suggest for the company to develop an application that would fit in the Photo genre."
   ]
  },
  {
   "cell_type": "markdown",
   "metadata": {},
   "source": [
    "Note to self: Fine tune the project following this [style guide](https://www.dataquest.io/blog/data-science-project-style-guide/)"
   ]
  }
 ],
 "metadata": {
  "kernelspec": {
   "display_name": "Python 3",
   "language": "python",
   "name": "python3"
  },
  "language_info": {
   "codemirror_mode": {
    "name": "ipython",
    "version": 3
   },
   "file_extension": ".py",
   "mimetype": "text/x-python",
   "name": "python",
   "nbconvert_exporter": "python",
   "pygments_lexer": "ipython3",
   "version": "3.7.3"
  }
 },
 "nbformat": 4,
 "nbformat_minor": 2
}
